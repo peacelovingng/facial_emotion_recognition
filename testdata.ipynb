{
 "cells": [
  {
   "cell_type": "code",
   "execution_count": 1,
   "id": "fcaf70cc-45d0-4ac1-8c8c-058802684757",
   "metadata": {},
   "outputs": [],
   "source": [
    "import cv2\n",
    "import numpy as np\n",
    "from keras.models import load_model"
   ]
  },
  {
   "cell_type": "code",
   "execution_count": 2,
   "id": "615da0bf-a516-4a5d-970d-4b3cc4e38c48",
   "metadata": {},
   "outputs": [],
   "source": [
    "model=load_model('model_file_30epochs.h5')"
   ]
  },
  {
   "cell_type": "code",
   "execution_count": 3,
   "id": "e716bdee-92f0-481f-be0c-de4b940eefde",
   "metadata": {},
   "outputs": [],
   "source": [
    "faceDetect=cv2.CascadeClassifier('haarcascade_frontalface_default.xml')\n",
    "\n",
    "labels_dict={0:'Angry', 1:'Disgust', 2:'Fear', 3:'Happy', 4:'Neutral', 5:'Sad', 6:'Surprise'}"
   ]
  },
  {
   "cell_type": "code",
   "execution_count": 9,
   "id": "6b716edf-6289-41a7-956f-54cffd13abbd",
   "metadata": {},
   "outputs": [
    {
     "name": "stdout",
     "output_type": "stream",
     "text": [
      "0\n",
      "0\n",
      "0\n",
      "4\n",
      "0\n",
      "6\n"
     ]
    }
   ],
   "source": [
    "frame=cv2.imread(\"faces-small.jpg\")\n",
    "gray=cv2.cvtColor(frame, cv2.COLOR_BGR2GRAY)\n",
    "faces= faceDetect.detectMultiScale(gray, 1.3, 3)\n",
    "for x,y,w,h in faces:\n",
    "    sub_face_img=gray[y:y+h, x:x+w]\n",
    "    resized=cv2.resize(sub_face_img,(48,48))\n",
    "    normalize=resized/255.0\n",
    "    reshaped=np.reshape(normalize, (1, 48, 48, 1))\n",
    "    result=model.predict(reshaped)\n",
    "    label=np.argmax(result, axis=1)[0]\n",
    "    print(label)\n",
    "    cv2.rectangle(frame, (x,y), (x+w, y+h), (0,0,255), 1)\n",
    "    cv2.rectangle(frame,(x,y),(x+w,y+h),(50,50,255),2)\n",
    "    cv2.rectangle(frame,(x,y-40),(x+w,y),(50,50,255),-1)\n",
    "    cv2.putText(frame, labels_dict[label], (x, y-10),cv2.FONT_HERSHEY_SIMPLEX,0.8,(255,255,255),2)\n",
    "    if label == 0:\n",
    "        cv2.putText(frame, 'Dont Be Angry',    org = (50, 50), fontFace = cv2.FONT_HERSHEY_SIMPLEX,  fontScale=0.3, color=(255,0,0), thickness=2)\n",
    "    else:\n",
    "        cv2.putText(frame, 'Be Angry',    org = (50, 50), fontFace = cv2.FONT_HERSHEY_SIMPLEX,  fontScale=0.3, color=(255,0,0), thickness=2)     "
   ]
  },
  {
   "cell_type": "code",
   "execution_count": 10,
   "id": "69b21433-806d-423e-a26e-c1c43b1c151b",
   "metadata": {},
   "outputs": [],
   "source": [
    "cv2.imshow(\"Frame\", frame)\n",
    "cv2.waitKey(0) & 0xff\n",
    "cv2.destroyAllWindows()"
   ]
  }
 ],
 "metadata": {
  "kernelspec": {
   "display_name": "Python 3",
   "language": "python",
   "name": "python3"
  },
  "language_info": {
   "codemirror_mode": {
    "name": "ipython",
    "version": 3
   },
   "file_extension": ".py",
   "mimetype": "text/x-python",
   "name": "python",
   "nbconvert_exporter": "python",
   "pygments_lexer": "ipython3",
   "version": "3.8.5"
  }
 },
 "nbformat": 4,
 "nbformat_minor": 5
}
